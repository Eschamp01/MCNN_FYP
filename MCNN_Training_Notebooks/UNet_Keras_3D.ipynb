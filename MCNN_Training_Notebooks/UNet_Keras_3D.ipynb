{
  "nbformat": 4,
  "nbformat_minor": 0,
  "metadata": {
    "colab": {
      "name": "UNet_Keras_3D",
      "provenance": [],
      "machine_shape": "hm",
      "collapsed_sections": []
    },
    "kernelspec": {
      "name": "python3",
      "display_name": "Python 3"
    },
    "language_info": {
      "name": "python"
    },
    "accelerator": "GPU",
    "gpuClass": "standard"
  },
  "cells": [
    {
      "cell_type": "markdown",
      "source": [
        "# UNet 3D Implementation in Keras\n"
      ],
      "metadata": {
        "id": "uPQyJ_7CEFC6"
      }
    },
    {
      "cell_type": "code",
      "execution_count": null,
      "metadata": {
        "id": "QviguYcF1nVC"
      },
      "outputs": [],
      "source": [
        "import os\n",
        "import numpy as np\n",
        "import matplotlib.pyplot as plt\n",
        "%matplotlib inline\n",
        "import nibabel as nib\n",
        "import glob"
      ]
    },
    {
      "cell_type": "code",
      "source": [
        "from google.colab import drive\n",
        "import os\n",
        "\n",
        "drive.mount('/content/drive', force_remount=True)\n",
        "root_dir = \"/content/drive/My Drive/\"\n",
        "\n",
        "project_folder = \"FYP/MONAI_Lung/\"\n",
        "data_loc = \"FYP/MONAI_Lung/Data/Task06_Lung/\"\n",
        "\n",
        "data_dir = root_dir + data_loc\n",
        "\n",
        "\n",
        "def create_and_set_working_directory(project_folder):\n",
        "  if os.path.isdir(root_dir + project_folder) == False:\n",
        "    os.mkdir(root_dir + project_folder)\n",
        "    print(root_dir + project_folder + ' did not exist but was created.')\n",
        "\n",
        "  os.chdir(root_dir + project_folder)\n",
        "  print('Your working directory was changed to ' + root_dir + project_folder)\n",
        "\n",
        "create_and_set_working_directory(project_folder)"
      ],
      "metadata": {
        "colab": {
          "base_uri": "https://localhost:8080/"
        },
        "id": "XPrQiHia2M5M",
        "outputId": "fe6cdff5-4594-449d-f647-2d3668c782a7"
      },
      "execution_count": null,
      "outputs": [
        {
          "output_type": "stream",
          "name": "stdout",
          "text": [
            "Mounted at /content/drive\n",
            "Your working directory was changed to /content/drive/My Drive/FYP/MONAI_Lung/\n"
          ]
        }
      ]
    },
    {
      "cell_type": "code",
      "source": [
        "train_images = sorted(\n",
        "    glob.glob(os.path.join(data_dir, \"imagesTr\", \"*.nii.gz\")))\n",
        "train_labels = sorted(\n",
        "    glob.glob(os.path.join(data_dir, \"labelsTr\", \"*.nii.gz\")))\n",
        "data_dicts = [\n",
        "    {\"image\": image_name, \"label\": label_name}\n",
        "    for image_name, label_name in zip(train_images, train_labels)\n",
        "]\n",
        "train_files = data_dicts"
      ],
      "metadata": {
        "id": "A-IqKr9k2i0-"
      },
      "execution_count": null,
      "outputs": []
    },
    {
      "cell_type": "code",
      "source": [
        "len(train_files)"
      ],
      "metadata": {
        "colab": {
          "base_uri": "https://localhost:8080/"
        },
        "id": "T__Nx2aS2d5Z",
        "outputId": "018c352c-75f1-4a87-d1c3-1f053a1e0448"
      },
      "execution_count": null,
      "outputs": [
        {
          "output_type": "execute_result",
          "data": {
            "text/plain": [
              "63"
            ]
          },
          "metadata": {},
          "execution_count": 4
        }
      ]
    },
    {
      "cell_type": "code",
      "source": [
        "total_sections = 0\n",
        "\n",
        "for i in range(len(train_files)):\n",
        "  mri_array = nib.load(train_files[i]['label'])\n",
        "  slices = mri_array.shape[2]\n",
        "  sections = int(float(slices)/64.0)+1\n",
        "  total_sections += sections\n",
        "print('total number of sections: ', total_sections)"
      ],
      "metadata": {
        "colab": {
          "base_uri": "https://localhost:8080/"
        },
        "id": "KNhqSvj59OZD",
        "outputId": "0c84d8d7-0409-4157-b522-77de6e3055e9"
      },
      "execution_count": null,
      "outputs": [
        {
          "output_type": "stream",
          "name": "stdout",
          "text": [
            "total number of sections:  302\n"
          ]
        }
      ]
    },
    {
      "cell_type": "code",
      "source": [
        "from skimage.measure import block_reduce\n",
        "def make_block_reduce( input_layers, dim=(2,2,2), mode=np.mean ):\n",
        "    stacked_layers = [ block_reduce( image, dim, mode ) for image in input_layers ]\n",
        "    return np.asarray( stacked_layers, dtype='float32' )"
      ],
      "metadata": {
        "id": "yW4n4vd979gC"
      },
      "execution_count": null,
      "outputs": []
    },
    {
      "cell_type": "code",
      "source": [
        "# finding total number of images in a given number of MRI files\n",
        "# counter = 0\n",
        "# for i in range(len(train_files)):\n",
        "#   mri = nib.load(train_files[i]['label'])\n",
        "#   counter += mri.shape[2]\n",
        "\n",
        "# print(counter)"
      ],
      "metadata": {
        "id": "JmN4GAQrBu4H"
      },
      "execution_count": null,
      "outputs": []
    },
    {
      "cell_type": "code",
      "source": [
        "# mri = nib.load(train_files[0]['image'])\n",
        "# test_data_array = mri.get_fdata()\n",
        "# print(test_data_array.shape)\n",
        "\n",
        "# data_arranged_1 = np.swapaxes(test_data_array,0,2)\n",
        "# data_arranged_2 = np.swapaxes(data_arranged_1,1,2)\n",
        "\n",
        "# test_data_array = make_block_reduce(data_arranged_2, (2,2), np.mean)\n",
        "# test_slice = test_data_array[150, :, :]\n",
        "# plt.imshow(test_slice.T, cmap='gray', origin='lower')\n",
        "# plt.xlabel('First axis')\n",
        "# plt.ylabel('Second axis')\n",
        "# plt.colorbar(label='Signal intensity')\n",
        "# plt.show()\n",
        "\n",
        "# test_data_array = make_block_reduce(test_data_array, (2,2), np.mean)\n",
        "# test_slice = test_data_array[150, :, :]\n",
        "# plt.imshow(test_slice.T, cmap='gray', origin='lower')\n",
        "# plt.xlabel('First axis')\n",
        "# plt.ylabel('Second axis')\n",
        "# plt.colorbar(label='Signal intensity')\n",
        "# plt.show()\n",
        "\n",
        "# test_data_array = make_block_reduce(test_data_array, (2,2), np.mean)\n",
        "# test_slice = test_data_array[150, :, :]\n",
        "# plt.imshow(test_slice.T, cmap='gray', origin='lower')\n",
        "# plt.xlabel('First axis')\n",
        "# plt.ylabel('Second axis')\n",
        "# plt.colorbar(label='Signal intensity')\n",
        "# plt.show()\n",
        "\n",
        "# test_data_array = make_block_reduce(test_data_array, (2,2), np.mean)\n",
        "# test_slice = test_data_array[150, :, :]\n",
        "# plt.imshow(test_slice.T, cmap='gray', origin='lower')\n",
        "# plt.xlabel('First axis')\n",
        "# plt.ylabel('Second axis')\n",
        "# plt.colorbar(label='Signal intensity')\n",
        "# plt.show()\n",
        "\n",
        "# test_data_array = make_block_reduce(test_data_array, (2,2), np.mean)\n",
        "# test_slice = test_data_array[150, :, :]\n",
        "# plt.imshow(test_slice.T, cmap='gray', origin='lower')\n",
        "# plt.xlabel('First axis')\n",
        "# plt.ylabel('Second axis')\n",
        "# plt.colorbar(label='Signal intensity')\n",
        "# plt.show()\n",
        "\n",
        "# test_data_array = make_block_reduce(test_data_array, (2,2), np.mean)\n",
        "# test_slice = test_data_array[150, :, :]\n",
        "# plt.imshow(test_slice.T, cmap='gray', origin='lower')\n",
        "# plt.xlabel('First axis')\n",
        "# plt.ylabel('Second axis')\n",
        "# plt.colorbar(label='Signal intensity')\n",
        "# plt.show()\n",
        "\n",
        "# test_data_array = make_block_reduce(test_data_array, (2,2), np.mean)\n",
        "# test_slice = test_data_array[150, :, :]\n",
        "# plt.imshow(test_slice.T, cmap='gray', origin='lower')\n",
        "# plt.xlabel('First axis')\n",
        "# plt.ylabel('Second axis')\n",
        "# plt.colorbar(label='Signal intensity')\n",
        "# plt.show()\n",
        "\n",
        "# test_data_array = make_block_reduce(test_data_array, (2,2), np.mean)\n",
        "# test_slice = test_data_array[150, :, :]\n",
        "# plt.imshow(test_slice.T, cmap='gray', origin='lower')\n",
        "# plt.xlabel('First axis')\n",
        "# plt.ylabel('Second axis')\n",
        "# plt.colorbar(label='Signal intensity')\n",
        "# plt.show()\n",
        "\n",
        "label_data_array = np.empty((302,64,256,256))\n",
        "\n",
        "counter=0\n",
        "\n",
        "for i in range(len(train_files)):\n",
        "  mri_array = nib.load(train_files[i]['label']).get_fdata()\n",
        "  data_arranged_1 = np.swapaxes(mri_array,0,2)\n",
        "  data_arranged_2 = np.swapaxes(data_arranged_1,1,2)\n",
        "  mri_array = make_block_reduce(data_arranged_2, (2,2), np.mean) # shape = (X,256,256)\n",
        "  for j in range(int(float(mri_array.shape[0])/64.0) +1):\n",
        "    if j < (int(float(mri_array.shape[0])/64.0)):\n",
        "      start_index = 64*j\n",
        "      end_index = 64*(j+1)\n",
        "    else:\n",
        "      end_index = mri_array.shape[0]\n",
        "      start_index = end_index-64\n",
        "\n",
        "    label_data_array[counter,:,:,:] = mri_array[start_index:end_index,:,:]\n",
        "    counter += 1\n",
        "print(\"label data array shape: \", label_data_array.shape)"
      ],
      "metadata": {
        "colab": {
          "base_uri": "https://localhost:8080/"
        },
        "id": "j5TTHZUb2_9Y",
        "outputId": "904bd9bb-86e0-441a-8048-582ec1b8bbaf"
      },
      "execution_count": null,
      "outputs": [
        {
          "output_type": "stream",
          "name": "stdout",
          "text": [
            "label data array shape:  (302, 64, 256, 256)\n"
          ]
        }
      ]
    },
    {
      "cell_type": "code",
      "source": [
        "output_layers = label_data_array.reshape(label_data_array.shape + (1,))"
      ],
      "metadata": {
        "id": "J8vRaEB-Gjv6"
      },
      "execution_count": null,
      "outputs": []
    },
    {
      "cell_type": "code",
      "source": [
        "# now get the input data \n",
        "\n",
        "image_data_array = np.empty((302,64,256,256))\n",
        "\n",
        "counter=0\n",
        "\n",
        "for i in range(len(train_files)):\n",
        "  mri_array = nib.load(train_files[i]['image']).get_fdata()\n",
        "  data_arranged_1 = np.swapaxes(mri_array,0,2)\n",
        "  data_arranged_2 = np.swapaxes(data_arranged_1,1,2)\n",
        "  mri_array = make_block_reduce(data_arranged_2, (2,2), np.mean) # shape = (X,256,256)\n",
        "  for j in range(int(float(mri_array.shape[0])/64.0) +1):\n",
        "    if j < (int(float(mri_array.shape[0])/64.0)):\n",
        "      start_index = 64*j\n",
        "      end_index = 64*(j+1)\n",
        "    else:\n",
        "      end_index = mri_array.shape[0]\n",
        "      start_index = end_index-64\n",
        "\n",
        "    image_data_array[counter,:,:,:] = mri_array[start_index:end_index,:,:]\n",
        "    counter += 1\n",
        "\n",
        "print(\"image data array shape: \", image_data_array.shape)"
      ],
      "metadata": {
        "id": "IHhc8cj5478H",
        "colab": {
          "base_uri": "https://localhost:8080/"
        },
        "outputId": "b93f6c36-f82e-4a57-ed7f-6b1df4f7c9bb"
      },
      "execution_count": null,
      "outputs": [
        {
          "output_type": "stream",
          "name": "stdout",
          "text": [
            "image data array shape:  (302, 64, 256, 256)\n"
          ]
        }
      ]
    },
    {
      "cell_type": "code",
      "source": [
        "counter"
      ],
      "metadata": {
        "colab": {
          "base_uri": "https://localhost:8080/"
        },
        "id": "hA2vl5xzFP8B",
        "outputId": "cb0f327e-21a1-4854-98a4-9c863451bd73"
      },
      "execution_count": null,
      "outputs": [
        {
          "output_type": "execute_result",
          "data": {
            "text/plain": [
              "302"
            ]
          },
          "metadata": {},
          "execution_count": 11
        }
      ]
    },
    {
      "cell_type": "code",
      "source": [
        "image_data_array = image_data_array .reshape( image_data_array.shape + (1,) )"
      ],
      "metadata": {
        "id": "l0LaxkYt_sKz"
      },
      "execution_count": null,
      "outputs": []
    },
    {
      "cell_type": "code",
      "source": [
        "print(\"image shapes expressed as: (image number, x dimension, y dimension, channels)\")\n",
        "print(\"input images: \", image_data_array.shape)\n",
        "\n",
        "print(\"output labels resolution: \", output_layers.shape)"
      ],
      "metadata": {
        "id": "FUMq243lBhpv",
        "colab": {
          "base_uri": "https://localhost:8080/"
        },
        "outputId": "9786c82e-7614-4cc8-d97c-8a7b63cfab7d"
      },
      "execution_count": null,
      "outputs": [
        {
          "output_type": "stream",
          "name": "stdout",
          "text": [
            "image shapes expressed as: (image number, x dimension, y dimension, channels)\n",
            "input images:  (302, 64, 256, 256, 1)\n",
            "output labels resolution:  (302, 64, 256, 256, 1)\n"
          ]
        }
      ]
    },
    {
      "cell_type": "code",
      "source": [
        "%tensorflow_version 1.x\n",
        "import tensorflow\n",
        "print( tensorflow.__version__)"
      ],
      "metadata": {
        "id": "CyfzIQ2UBkec",
        "colab": {
          "base_uri": "https://localhost:8080/"
        },
        "outputId": "a0f81d07-4f6a-40c2-c39f-8fd6f81c91f8"
      },
      "execution_count": null,
      "outputs": [
        {
          "output_type": "stream",
          "name": "stdout",
          "text": [
            "TensorFlow 1.x selected.\n",
            "1.15.2\n"
          ]
        }
      ]
    },
    {
      "cell_type": "code",
      "source": [
        "from tensorflow.python.keras import regularizers\n",
        "from tensorflow.python.keras.initializers import he_normal\n",
        "kr = regularizers.l2( 1.0e-3 )\n",
        "ki = he_normal()"
      ],
      "metadata": {
        "id": "JyoJUrS7Cv8k"
      },
      "execution_count": null,
      "outputs": []
    },
    {
      "cell_type": "code",
      "source": [
        "from tensorflow.python.keras.layers import Input\n",
        "from tensorflow.python.keras.layers import Conv3D, Conv3DTranspose\n",
        "from tensorflow.python.keras.models import Model\n",
        "from tensorflow.python.keras.layers.merge import add\n",
        "\n",
        "init = Input(shape=(64, 256, 256, 1))\n",
        "init_ = Conv3D( 32, kernel_size=(17, 17, 5), activation = \"relu\", strides = 1, padding=\"same\", kernel_regularizer=kr, kernel_initializer=ki )( init )\n",
        "l1 = Conv3D( 64, kernel_size=(5, 5, 3), activation = \"relu\", strides = 2, padding=\"same\", kernel_regularizer=kr, kernel_initializer=ki )( init_ )\n",
        "l2=Conv3D(128, kernel_size=(3, 3, 3), activation=\"relu\", strides=2, padding='same', kernel_regularizer=kr, kernel_initializer=ki)(l1) \n",
        "l3=Conv3D(192, kernel_size=(3, 3, 3), activation=\"relu\", strides=2, padding='same', kernel_regularizer=kr, kernel_initializer=ki)(l2) \n",
        "l4=Conv3D(256, kernel_size=(3, 3, 3), activation=\"relu\", strides=2, padding='same', kernel_regularizer=kr, kernel_initializer=ki)(l3) \n",
        "l5 = Conv3D(384, kernel_size=(3, 3, 3), activation=\"relu\", strides=2, padding='same', kernel_regularizer=kr, kernel_initializer=ki)(l4) \n",
        "\n",
        "l13=Conv3DTranspose(256, kernel_size=(3, 3, 3),  activation=\"relu\", strides=2, padding='same', kernel_regularizer=kr, kernel_initializer=ki)(l5) \n",
        "l15=add([l13, l4]) \n",
        "l16=Conv3DTranspose(192, kernel_size=(3, 3, 3), strides=2, activation=\"relu\", padding='same', kernel_regularizer=kr, kernel_initializer=ki)(l15) \n",
        "l18=add([l16, l3]) \n",
        "l19=Conv3DTranspose(128, kernel_size=(3, 3, 3), activation=\"relu\", strides=2, padding='same', kernel_regularizer=kr, kernel_initializer=ki)(l18) \n",
        "l21=add([l19, l2]) \n",
        "l22=Conv3DTranspose(64, kernel_size=(3, 3, 3), activation=\"relu\", strides=2, padding='same', kernel_regularizer=kr, kernel_initializer=ki)(l21) \n",
        "l24=add([l22, l1])\n",
        "l25=Conv3DTranspose(32, kernel_size=(3, 3, 3), activation=\"relu\", strides=2, padding='same', kernel_regularizer=kr, kernel_initializer=ki)(l24) \n",
        "l27=add([l25, init_])\n",
        "llast=Conv3D(16 , kernel_size=(3, 3, 3), activation='relu', strides=1, padding='same', kernel_regularizer=kr, kernel_initializer=ki)(l27)\n",
        "llast=Conv3D(8 , kernel_size=(3, 3, 3), activation='relu', strides=1, padding='same', kernel_regularizer=kr, kernel_initializer=ki)(llast)\n",
        "last_output=Conv3D(1, kernel_size=(17, 17, 5), activation='sigmoid', strides=1, padding='same', kernel_regularizer=kr, kernel_initializer=ki, name=\"gen_256\")(llast)\n",
        "unet = Model(init, last_output)"
      ],
      "metadata": {
        "id": "HmdwqycGC0g1"
      },
      "execution_count": null,
      "outputs": []
    },
    {
      "cell_type": "code",
      "source": [
        "unet.summary()"
      ],
      "metadata": {
        "colab": {
          "base_uri": "https://localhost:8080/"
        },
        "id": "xNGsz-0_IbMR",
        "outputId": "cc1fbc2f-ed8d-4df6-deb9-53865b270a46"
      },
      "execution_count": null,
      "outputs": [
        {
          "output_type": "stream",
          "name": "stdout",
          "text": [
            "Model: \"model_1\"\n",
            "__________________________________________________________________________________________________\n",
            "Layer (type)                    Output Shape         Param #     Connected to                     \n",
            "==================================================================================================\n",
            "input_2 (InputLayer)            [(None, 64, 256, 256 0                                            \n",
            "__________________________________________________________________________________________________\n",
            "conv3d_8 (Conv3D)               (None, 64, 256, 256, 46272       input_2[0][0]                    \n",
            "__________________________________________________________________________________________________\n",
            "conv3d_9 (Conv3D)               (None, 32, 128, 128, 153664      conv3d_8[0][0]                   \n",
            "__________________________________________________________________________________________________\n",
            "conv3d_10 (Conv3D)              (None, 16, 64, 64, 1 221312      conv3d_9[0][0]                   \n",
            "__________________________________________________________________________________________________\n",
            "conv3d_11 (Conv3D)              (None, 8, 32, 32, 19 663744      conv3d_10[0][0]                  \n",
            "__________________________________________________________________________________________________\n",
            "conv3d_12 (Conv3D)              (None, 4, 16, 16, 25 1327360     conv3d_11[0][0]                  \n",
            "__________________________________________________________________________________________________\n",
            "conv3d_13 (Conv3D)              (None, 2, 8, 8, 384) 2654592     conv3d_12[0][0]                  \n",
            "__________________________________________________________________________________________________\n",
            "conv3d_transpose_5 (Conv3DTrans (None, 4, 16, 16, 25 2654464     conv3d_13[0][0]                  \n",
            "__________________________________________________________________________________________________\n",
            "add_5 (Add)                     (None, 4, 16, 16, 25 0           conv3d_transpose_5[0][0]         \n",
            "                                                                 conv3d_12[0][0]                  \n",
            "__________________________________________________________________________________________________\n",
            "conv3d_transpose_6 (Conv3DTrans (None, 8, 32, 32, 19 1327296     add_5[0][0]                      \n",
            "__________________________________________________________________________________________________\n",
            "add_6 (Add)                     (None, 8, 32, 32, 19 0           conv3d_transpose_6[0][0]         \n",
            "                                                                 conv3d_11[0][0]                  \n",
            "__________________________________________________________________________________________________\n",
            "conv3d_transpose_7 (Conv3DTrans (None, 16, 64, 64, 1 663680      add_6[0][0]                      \n",
            "__________________________________________________________________________________________________\n",
            "add_7 (Add)                     (None, 16, 64, 64, 1 0           conv3d_transpose_7[0][0]         \n",
            "                                                                 conv3d_10[0][0]                  \n",
            "__________________________________________________________________________________________________\n",
            "conv3d_transpose_8 (Conv3DTrans (None, 32, 128, 128, 221248      add_7[0][0]                      \n",
            "__________________________________________________________________________________________________\n",
            "add_8 (Add)                     (None, 32, 128, 128, 0           conv3d_transpose_8[0][0]         \n",
            "                                                                 conv3d_9[0][0]                   \n",
            "__________________________________________________________________________________________________\n",
            "conv3d_transpose_9 (Conv3DTrans (None, 64, 256, 256, 55328       add_8[0][0]                      \n",
            "__________________________________________________________________________________________________\n",
            "add_9 (Add)                     (None, 64, 256, 256, 0           conv3d_transpose_9[0][0]         \n",
            "                                                                 conv3d_8[0][0]                   \n",
            "__________________________________________________________________________________________________\n",
            "conv3d_14 (Conv3D)              (None, 64, 256, 256, 13840       add_9[0][0]                      \n",
            "__________________________________________________________________________________________________\n",
            "conv3d_15 (Conv3D)              (None, 64, 256, 256, 3464        conv3d_14[0][0]                  \n",
            "__________________________________________________________________________________________________\n",
            "gen_256 (Conv3D)                (None, 64, 256, 256, 11561       conv3d_15[0][0]                  \n",
            "==================================================================================================\n",
            "Total params: 10,017,825\n",
            "Trainable params: 10,017,825\n",
            "Non-trainable params: 0\n",
            "__________________________________________________________________________________________________\n"
          ]
        }
      ]
    },
    {
      "cell_type": "code",
      "source": [
        "sess = tensorflow.Session(config=tensorflow.ConfigProto(log_device_placement=True))"
      ],
      "metadata": {
        "id": "DpdiuJlHIxcq",
        "colab": {
          "base_uri": "https://localhost:8080/"
        },
        "outputId": "d94d6e0f-e73c-434f-9b72-9aed28fc8d0c"
      },
      "execution_count": null,
      "outputs": [
        {
          "output_type": "stream",
          "name": "stdout",
          "text": [
            "Device mapping:\n",
            "/job:localhost/replica:0/task:0/device:XLA_CPU:0 -> device: XLA_CPU device\n",
            "/job:localhost/replica:0/task:0/device:XLA_GPU:0 -> device: XLA_GPU device\n",
            "/job:localhost/replica:0/task:0/device:GPU:0 -> device: 0, name: Tesla P100-PCIE-16GB, pci bus id: 0000:00:04.0, compute capability: 6.0\n",
            "\n"
          ]
        }
      ]
    },
    {
      "cell_type": "code",
      "source": [
        "unet.compile( loss='binary_crossentropy', optimizer='adam', metrics=[\"accuracy\"])"
      ],
      "metadata": {
        "id": "erU1768lC-jo"
      },
      "execution_count": null,
      "outputs": []
    },
    {
      "cell_type": "code",
      "source": [
        "model_name = 'UNet_3D_ver_1/' #CHANGE\n",
        "\n",
        "def create_directory(dir):\n",
        "  if os.path.isdir(dir) == False:\n",
        "    os.mkdir(dir)\n",
        "    print(dir + ' did not exist but was created.')\n",
        "  else:\n",
        "    print(dir + ' already exists. Double ccheck another model will not be overwritten!')\n",
        "\n",
        "create_directory(root_dir + project_folder + model_name)"
      ],
      "metadata": {
        "colab": {
          "base_uri": "https://localhost:8080/"
        },
        "id": "UWeyTjFyNeaD",
        "outputId": "b0431edc-84ca-4d5d-f36a-da2474b94d5e"
      },
      "execution_count": null,
      "outputs": [
        {
          "output_type": "stream",
          "name": "stdout",
          "text": [
            "/content/drive/My Drive/FYP/MONAI_Lung/UNet_3D_ver_1/ already exists. Double ccheck another model will not be overwritten!\n"
          ]
        }
      ]
    },
    {
      "cell_type": "code",
      "source": [
        "from keras.callbacks import CSVLogger\n",
        "\n",
        "csv_filepath = 'csv_log.csv'\n",
        "csv_dir = root_dir + project_folder + model_name + csv_filepath\n",
        "\n",
        "csv_logger = CSVLogger(csv_dir, append=True, separator=';')"
      ],
      "metadata": {
        "id": "Tl2OnrTPQBFh"
      },
      "execution_count": null,
      "outputs": []
    },
    {
      "cell_type": "code",
      "source": [
        "# IF RESUMING, UNCOMMENT BELOW:\n",
        "\n",
        "# mcnn.load_weights(checkpoint_dir)"
      ],
      "metadata": {
        "id": "dXDBm-DdRKii"
      },
      "execution_count": null,
      "outputs": []
    },
    {
      "cell_type": "code",
      "source": [
        "history = unet.fit(image_data_array, output_layers, batch_size=1, epochs=40, verbose=1,validation_split=0.25, callbacks=[csv_logger])"
      ],
      "metadata": {
        "colab": {
          "base_uri": "https://localhost:8080/"
        },
        "id": "ixCi4JH4EoxS",
        "outputId": "4b9bec3f-430e-4a14-b0bb-b412f0d3cc32"
      },
      "execution_count": null,
      "outputs": [
        {
          "output_type": "stream",
          "name": "stdout",
          "text": [
            "Train on 226 samples, validate on 76 samples\n",
            "Epoch 1/40\n",
            "226/226 [==============================] - 587s 3s/sample - loss: 3.0782 - acc: 0.9888 - val_loss: 1.3556 - val_acc: 0.9895\n",
            "Epoch 2/40\n",
            "226/226 [==============================] - 564s 2s/sample - loss: 1.2435 - acc: 0.9932 - val_loss: 0.9450 - val_acc: 0.9943\n",
            "Epoch 3/40\n",
            "226/226 [==============================] - 564s 2s/sample - loss: 0.8872 - acc: 0.9957 - val_loss: 0.8226 - val_acc: 0.9963\n",
            "Epoch 4/40\n",
            "226/226 [==============================] - 564s 2s/sample - loss: 0.7604 - acc: 0.9962 - val_loss: 0.6618 - val_acc: 0.9966\n",
            "Epoch 5/40\n",
            "226/226 [==============================] - 564s 2s/sample - loss: 0.6487 - acc: 0.9973 - val_loss: 0.6039 - val_acc: 0.9988\n",
            "Epoch 6/40\n",
            "226/226 [==============================] - 564s 2s/sample - loss: 0.6991 - acc: 0.9983 - val_loss: 0.5777 - val_acc: 0.9974\n",
            "Epoch 7/40\n",
            "226/226 [==============================] - 564s 2s/sample - loss: 0.5100 - acc: 0.9982 - val_loss: 0.4476 - val_acc: 0.9989\n",
            "Epoch 8/40\n",
            "226/226 [==============================] - 564s 2s/sample - loss: 0.4299 - acc: 0.9989 - val_loss: 0.4019 - val_acc: 0.9994\n",
            "Epoch 9/40\n",
            "226/226 [==============================] - 564s 2s/sample - loss: 0.3809 - acc: 0.9992 - val_loss: 0.3508 - val_acc: 0.9995\n",
            "Epoch 10/40\n",
            "226/226 [==============================] - 564s 2s/sample - loss: 0.3347 - acc: 0.9992 - val_loss: 0.3115 - val_acc: 0.9993\n",
            "Epoch 11/40\n",
            "226/226 [==============================] - 564s 2s/sample - loss: 0.2974 - acc: 0.9992 - val_loss: 0.2732 - val_acc: 0.9991\n",
            "Epoch 12/40\n",
            "226/226 [==============================] - 563s 2s/sample - loss: 0.2638 - acc: 0.9993 - val_loss: 0.2392 - val_acc: 0.9996\n",
            "Epoch 13/40\n",
            "226/226 [==============================] - 563s 2s/sample - loss: 0.2431 - acc: 0.9990 - val_loss: 0.2249 - val_acc: 0.9992\n",
            "Epoch 14/40\n",
            "226/226 [==============================] - 563s 2s/sample - loss: 0.3099 - acc: 0.9994 - val_loss: 0.2435 - val_acc: 0.9998\n",
            "Epoch 15/40\n",
            "226/226 [==============================] - 563s 2s/sample - loss: 0.2294 - acc: 0.9995 - val_loss: 0.2150 - val_acc: 0.9998\n",
            "Epoch 16/40\n",
            "226/226 [==============================] - 563s 2s/sample - loss: 0.2038 - acc: 0.9995 - val_loss: 0.1918 - val_acc: 0.9998\n",
            "Epoch 17/40\n",
            "226/226 [==============================] - 563s 2s/sample - loss: 0.1825 - acc: 0.9995 - val_loss: 0.1722 - val_acc: 0.9998\n",
            "Epoch 18/40\n",
            "226/226 [==============================] - 563s 2s/sample - loss: 0.1643 - acc: 0.9995 - val_loss: 0.1553 - val_acc: 0.9998\n",
            "Epoch 19/40\n",
            "226/226 [==============================] - 563s 2s/sample - loss: 0.1486 - acc: 0.9995 - val_loss: 0.1405 - val_acc: 0.9998\n",
            "Epoch 20/40\n",
            "226/226 [==============================] - 563s 2s/sample - loss: 0.1347 - acc: 0.9995 - val_loss: 0.1275 - val_acc: 0.9998\n",
            "Epoch 21/40\n",
            "226/226 [==============================] - 562s 2s/sample - loss: 0.1225 - acc: 0.9995 - val_loss: 0.1160 - val_acc: 0.9998\n",
            "Epoch 22/40\n",
            "226/226 [==============================] - 562s 2s/sample - loss: 0.1116 - acc: 0.9995 - val_loss: 0.1057 - val_acc: 0.9998\n",
            "Epoch 23/40\n",
            "226/226 [==============================] - 562s 2s/sample - loss: 0.1019 - acc: 0.9995 - val_loss: 0.0964 - val_acc: 0.9998\n",
            "Epoch 24/40\n",
            "226/226 [==============================] - 562s 2s/sample - loss: 0.0932 - acc: 0.9995 - val_loss: 0.0881 - val_acc: 0.9998\n",
            "Epoch 25/40\n",
            "226/226 [==============================] - 562s 2s/sample - loss: 0.0853 - acc: 0.9995 - val_loss: 0.0806 - val_acc: 0.9998\n",
            "Epoch 26/40\n",
            "226/226 [==============================] - 562s 2s/sample - loss: 0.0782 - acc: 0.9995 - val_loss: 0.0737 - val_acc: 0.9998\n",
            "Epoch 27/40\n",
            "226/226 [==============================] - 562s 2s/sample - loss: 0.0716 - acc: 0.9995 - val_loss: 0.0675 - val_acc: 0.9998\n",
            "Epoch 28/40\n",
            "226/226 [==============================] - 562s 2s/sample - loss: 0.0685 - acc: 0.9995 - val_loss: 0.0641 - val_acc: 0.9997\n",
            "Epoch 29/40\n",
            "226/226 [==============================] - 562s 2s/sample - loss: 0.0621 - acc: 0.9995 - val_loss: 0.0579 - val_acc: 0.9998\n",
            "Epoch 30/40\n",
            "226/226 [==============================] - 562s 2s/sample - loss: 0.0562 - acc: 0.9995 - val_loss: 0.0525 - val_acc: 0.9998\n",
            "Epoch 31/40\n",
            "226/226 [==============================] - 562s 2s/sample - loss: 0.0512 - acc: 0.9995 - val_loss: 0.0477 - val_acc: 0.9998\n",
            "Epoch 32/40\n",
            "226/226 [==============================] - 562s 2s/sample - loss: 0.0467 - acc: 0.9995 - val_loss: 0.0434 - val_acc: 0.9998\n",
            "Epoch 33/40\n",
            "226/226 [==============================] - 562s 2s/sample - loss: 0.0426 - acc: 0.9995 - val_loss: 0.0395 - val_acc: 0.9998\n",
            "Epoch 34/40\n",
            "226/226 [==============================] - 562s 2s/sample - loss: 0.0389 - acc: 0.9995 - val_loss: 0.0358 - val_acc: 0.9998\n",
            "Epoch 35/40\n",
            "226/226 [==============================] - 562s 2s/sample - loss: 0.0354 - acc: 0.9995 - val_loss: 0.0325 - val_acc: 0.9998\n",
            "Epoch 36/40\n",
            "226/226 [==============================] - 562s 2s/sample - loss: 0.0322 - acc: 0.9995 - val_loss: 0.0293 - val_acc: 0.9998\n",
            "Epoch 37/40\n",
            "226/226 [==============================] - 563s 2s/sample - loss: 0.0291 - acc: 0.9995 - val_loss: 0.0266 - val_acc: 0.9998\n",
            "Epoch 38/40\n",
            "226/226 [==============================] - 563s 2s/sample - loss: 0.0265 - acc: 0.9995 - val_loss: 0.0238 - val_acc: 0.9998\n",
            "Epoch 39/40\n",
            "226/226 [==============================] - 563s 2s/sample - loss: 0.0238 - acc: 0.9995 - val_loss: 0.1823 - val_acc: 0.9998\n",
            "Epoch 40/40\n",
            "226/226 [==============================] - 563s 2s/sample - loss: 0.0461 - acc: 0.9995 - val_loss: 0.0310 - val_acc: 0.9998\n"
          ]
        }
      ]
    },
    {
      "cell_type": "code",
      "source": [
        "unet.save_weights('./UNet_3D_ver_1.h5', overwrite=True)"
      ],
      "metadata": {
        "id": "qqh3oUkEl8w_"
      },
      "execution_count": null,
      "outputs": []
    }
  ]
}